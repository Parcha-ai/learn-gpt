{
 "cells": [
  {
   "cell_type": "code",
   "execution_count": 34,
   "id": "3edd7ea2",
   "metadata": {},
   "outputs": [
    {
     "name": "stdout",
     "output_type": "stream",
     "text": [
      "{'id': 'test', 'data': 'foo2'}\n"
     ]
    },
    {
     "data": {
      "text/plain": [
       "['test']"
      ]
     },
     "execution_count": 34,
     "metadata": {},
     "output_type": "execute_result"
    }
   ],
   "source": [
    "from pydantic import BaseModel, Field\n",
    "from tinydb import TinyDB, Query\n",
    "from tinydb.table import Table, Document\n",
    "import uuid\n",
    "\n",
    "\n",
    "class MyTable(Table):\n",
    "    document_id_class = str\n",
    "\n",
    "    def _get_next_id(self):\n",
    "        return str(uuid.uuid4())\n",
    "\n",
    "class DB(TinyDB):\n",
    "    table_class = MyTable\n",
    "    \n",
    "class Test(BaseModel):\n",
    "    id: str = \"test\" #uuid.uuid4()\n",
    "    data: str\n",
    "\n",
    "def document_to_model(document: Document, model_cls: type) -> BaseModel:\n",
    "    return model_cls(**document)\n",
    "        \n",
    "def model_to_document(model: BaseModel) -> Document:\n",
    "    return Document(model.dict(), doc_id=model.id)\n",
    "    \n",
    "test = Test(data=\"foo2\")\n",
    "\n",
    "db = DB(\"test-db.json\")\n",
    "\n",
    "doc = model_to_document(test)\n",
    "print(doc)\n",
    "\n",
    "\n",
    "\n",
    "db.upsert(doc)\n"
   ]
  },
  {
   "cell_type": "code",
   "execution_count": 33,
   "id": "a67bdf8e",
   "metadata": {},
   "outputs": [
    {
     "data": {
      "text/plain": [
       "['test']"
      ]
     },
     "execution_count": 33,
     "metadata": {},
     "output_type": "execute_result"
    }
   ],
   "source": [
    "r = db.search(Query().id == \"test\")[0]\n",
    "m = document_to_model(r, Test)\n",
    "\n",
    "# r.data = \"foo2\"\n",
    "m.data = \"foo3\"\n",
    "\n",
    "r = model_to_document(m)\n",
    "# print(r)\n",
    "# print(m)\n",
    "\n",
    "db.update(r, Query().id == \"test\")\n",
    "# r.update()"
   ]
  },
  {
   "cell_type": "code",
   "execution_count": 4,
   "id": "598bc1aa",
   "metadata": {},
   "outputs": [
    {
     "data": {
      "text/plain": [
       "\"# Learning Hub: Python Programming: Hello World\\n(generated with fake)\\n\\n> I want to how to code a hello world in Python\\n\\n * [Python Programming: Hello World](#python-programming:-hello-world)\\n\\n\\n# Python Programming: Hello World<a id='python-programming:-hello-world'></a>\\nThis course will teach you how to write a simple 'Hello World' program in Python. You will learn the basics of Python syntax, how to write and run Python code, and how to use print statements to output text to the console.\\n\\nLearning how to write a 'Hello World' program in Python is a great starting point for anyone interested in programming. It is a simple yet powerful way to get familiar with the basics of coding, and Python is a popular and versatile language that can be used for a wide range of applications.\\n\\n## Resources<a id='python-programming:-hello-world_resources'></a>\\n* Python Programming: Hello World course by Codecademy: This course provides an interactive platform to learn how to code a 'Hello World' program in Python. It covers the basics of Python syntax, writing and running Python code, and using print statements to output text to the console.\\n* Python documentation: This is the official documentation for Python. It provides detailed information about the Python programming language, including syntax, libraries, and best practices for coding. It is a great resource to refer to while learning Python.\\n## Exercises<a id='python-programming:-hello-world_exercises'></a>\\n* Write a Python program that prints 'Hello World' to the console.\\n* Modify the previous program to print 'Hello, [your name]' to the console.\\n* Create a Python program that takes user input and prints it to the console.\\n\""
      ]
     },
     "execution_count": 4,
     "metadata": {},
     "output_type": "execute_result"
    }
   ],
   "source": [
    "\n",
    "import store\n",
    "from learn import get_plan_md\n",
    "\n",
    "p = store.get_all_plans()[0]\n",
    "get_plan_md(p, model=\"fake\")\n"
   ]
  }
 ],
 "metadata": {
  "kernelspec": {
   "display_name": "Python 3 (ipykernel)",
   "language": "python",
   "name": "python3"
  },
  "language_info": {
   "codemirror_mode": {
    "name": "ipython",
    "version": 3
   },
   "file_extension": ".py",
   "mimetype": "text/x-python",
   "name": "python",
   "nbconvert_exporter": "python",
   "pygments_lexer": "ipython3",
   "version": "3.11.2"
  }
 },
 "nbformat": 4,
 "nbformat_minor": 5
}
